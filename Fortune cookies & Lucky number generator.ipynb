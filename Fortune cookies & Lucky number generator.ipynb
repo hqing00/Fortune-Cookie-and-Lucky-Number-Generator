{
 "cells": [
  {
   "cell_type": "code",
   "execution_count": 22,
   "id": "95b7e359",
   "metadata": {},
   "outputs": [],
   "source": [
    "# Import librabries\n",
    "import pandas as pd\n",
    "import random"
   ]
  },
  {
   "cell_type": "code",
   "execution_count": 23,
   "id": "ad80f105",
   "metadata": {},
   "outputs": [],
   "source": [
    "# read the data\n",
    "df = pd.read_csv(r\"C:\\Users\\Yap Hui Qing\\Documents\\Data Learning\\Projects\\Fortune_cookies.csv\")"
   ]
  },
  {
   "cell_type": "code",
   "execution_count": 24,
   "id": "64df0e5b",
   "metadata": {},
   "outputs": [],
   "source": [
    "# random choose one fortune from the list\n",
    "fortune = random.choice(df['Fortune'])"
   ]
  },
  {
   "cell_type": "code",
   "execution_count": 25,
   "id": "cc0652e3",
   "metadata": {},
   "outputs": [],
   "source": [
    "# Generate a lucky number\n",
    "lucky_number = random.randint(1, 100)"
   ]
  },
  {
   "cell_type": "code",
   "execution_count": 28,
   "id": "04300e5e",
   "metadata": {},
   "outputs": [
    {
     "name": "stdout",
     "output_type": "stream",
     "text": [
      "\n",
      "Tada! Your fortune cookie is here! 🍪\n",
      "========================================\n",
      "🔮 Your fortune: \"Someone you care about seeks reconciliation.\"\n",
      "🍀 Lucky Number: 30\n",
      "========================================\n"
     ]
    }
   ],
   "source": [
    "# Display it with style\n",
    "print(\"\\n\" + \"Tada! Your fortune cookie is here! 🍪\")\n",
    "print(\"=\" * 40)\n",
    "print(\"🔮 Your fortune: \\\"\" + fortune + \"\\\"\")\n",
    "print(\"🍀 Lucky Number:\", lucky_number)\n",
    "print(\"=\" * 40)"
   ]
  }
 ],
 "metadata": {
  "kernelspec": {
   "display_name": "Python 3",
   "language": "python",
   "name": "python3"
  },
  "language_info": {
   "codemirror_mode": {
    "name": "ipython",
    "version": 3
   },
   "file_extension": ".py",
   "mimetype": "text/x-python",
   "name": "python",
   "nbconvert_exporter": "python",
   "pygments_lexer": "ipython3",
   "version": "3.11.7"
  }
 },
 "nbformat": 4,
 "nbformat_minor": 5
}
